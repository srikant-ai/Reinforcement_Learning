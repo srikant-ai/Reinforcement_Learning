{
 "cells": [
  {
   "cell_type": "code",
   "execution_count": 1,
   "id": "995cf498",
   "metadata": {},
   "outputs": [],
   "source": [
    "# Program to create a Machine that gives reward in form \n",
    "# of a normal (Gaussian) distribution with respect to a \n",
    "# given mean and standard deviation.\n",
    "\n",
    "import numpy as np\n",
    "# class for a single slot machine rewards are gaussian.\n",
    "\n",
    "class GaussianBandit(object):\n",
    "    \n",
    "    def __init__(self,mean=0,stdev=1):\n",
    "        self.mean = mean\n",
    "        self.stdev = stdev\n",
    "    \n",
    "    def pull_lever(self):\n",
    "        reward = np.random.normal(self.mean , self.stdev)\n",
    "        return np.round(reward,1)\n",
    "    "
   ]
  },
  {
   "cell_type": "code",
   "execution_count": 6,
   "id": "a18923f4",
   "metadata": {},
   "outputs": [],
   "source": [
    "# Program to Simulate the game \n",
    "\n",
    "class GaussianBanditGame(object):\n",
    "    \n",
    "    def __init__(self,bandits):\n",
    "        self.bandits = bandits\n",
    "        np.random.shuffle(self.bandits)\n",
    "        self.reset_game()\n",
    "    \n",
    "    \n",
    "    def play(self,choice):\n",
    "        reward = self.bandits[choice-1].pull_lever()\n",
    "        self.rewards.append(reward)\n",
    "        self.total_reward += reward\n",
    "        self.n_played += 1\n",
    "        return reward\n",
    "    \n",
    "    def user_play(self):\n",
    "        self.reset_game()\n",
    "        print(\"Game started. \" + \"Enter 0 as input to end the game.\")\n",
    "        while True:\n",
    "            print(f\"\\n -- Round {self.n_played}\")\n",
    "            choice = int(input(f\"chose a machine \" + f\"from 1 to {len(self.bandits)}: \"))\n",
    "            if choice in range (1,len(self.bandits)+1):\n",
    "                reward = self.play(choice)\n",
    "                print(f\"Machine {choice} gave \" + f\"a reward of {reward}.\")\n",
    "                avg_rew = self.total_reward/self.n_played\n",
    "                print(f\"Your average reward \"+ f\"so far is {avg_rew}.\")\n",
    "            else:\n",
    "                break\n",
    "        print(\"Game has ended.\")\n",
    "        if self.n_played > 0:\n",
    "            print(f\"Total reward is {self.total_reward} \" + f\"after {self.n_played} round(s).\")\n",
    "            avg_rew = self.total_reward/self.n_played\n",
    "            print(f\"Average reward is {avg_rew}.\")\n",
    "    \n",
    "    def reset_game(self):\n",
    "        self.rewards = []\n",
    "        self.total_reward = 0\n",
    "        self.n_played = 0"
   ]
  },
  {
   "cell_type": "code",
   "execution_count": 7,
   "id": "873ffc0b",
   "metadata": {},
   "outputs": [],
   "source": [
    "slotA = GaussianBandit(5,3)\n",
    "slotB = GaussianBandit(6,2)\n",
    "slotC = GaussianBandit(1,5)\n",
    "game = GaussianBanditGame([slotA,slotB,slotC])"
   ]
  },
  {
   "cell_type": "code",
   "execution_count": 8,
   "id": "22b719b0",
   "metadata": {},
   "outputs": [
    {
     "name": "stdout",
     "output_type": "stream",
     "text": [
      "Game started. Enter 0 as input to end the game.\n",
      "\n",
      " -- Round 0\n",
      "chose a machine from 1 to 3: 1\n",
      "Machine 1 gave a reward of 6.6.\n",
      "Your average reward so far is 6.6.\n",
      "\n",
      " -- Round 1\n",
      "chose a machine from 1 to 3: 2\n",
      "Machine 2 gave a reward of 0.9.\n",
      "Your average reward so far is 3.75.\n",
      "\n",
      " -- Round 2\n",
      "chose a machine from 1 to 3: 0\n",
      "Game has ended.\n",
      "Total reward is 7.5 after 2 round(s).\n",
      "Average reward is 3.75.\n"
     ]
    }
   ],
   "source": [
    "game.user_play()"
   ]
  },
  {
   "cell_type": "code",
   "execution_count": 9,
   "id": "f297e6d6",
   "metadata": {},
   "outputs": [
    {
     "data": {
      "text/plain": [
       "6"
      ]
     },
     "execution_count": 9,
     "metadata": {},
     "output_type": "execute_result"
    }
   ],
   "source": [
    "game.bandits[0].mean"
   ]
  },
  {
   "cell_type": "code",
   "execution_count": null,
   "id": "bbc95347",
   "metadata": {},
   "outputs": [],
   "source": []
  }
 ],
 "metadata": {
  "kernelspec": {
   "display_name": "rlenv",
   "language": "python",
   "name": "rlenv"
  },
  "language_info": {
   "codemirror_mode": {
    "name": "ipython",
    "version": 3
   },
   "file_extension": ".py",
   "mimetype": "text/x-python",
   "name": "python",
   "nbconvert_exporter": "python",
   "pygments_lexer": "ipython3",
   "version": "3.8.5"
  }
 },
 "nbformat": 4,
 "nbformat_minor": 5
}
